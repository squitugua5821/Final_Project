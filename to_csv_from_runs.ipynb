{
 "cells": [
  {
   "cell_type": "code",
   "execution_count": 17,
   "metadata": {},
   "outputs": [],
   "source": [
    "import pandas as pd\n",
    "import numpy as np\n",
    "import seaborn as sns\n",
    "import matplotlib.pyplot as plt\n"
   ]
  },
  {
   "cell_type": "code",
   "execution_count": 23,
   "metadata": {},
   "outputs": [],
   "source": [
    "df = pd.read_csv('model_1_app.csv')\n",
    "\n"
   ]
  },
  {
   "cell_type": "markdown",
   "metadata": {},
   "source": [
    "Model 1 Appliances"
   ]
  },
  {
   "cell_type": "code",
   "execution_count": 29,
   "metadata": {},
   "outputs": [],
   "source": [
    "df1 = pd.read_csv('model_1_app.csv')\n",
    "df1[['Models']] = df1.models.apply(lambda x: pd.Series(str(x).split(\"_\")))\n",
    "df1['Models'] = df1['models'].str.replace(r\"\\s*\\([^()]*\\)\",\"\").str.strip()\n",
    "models3 = []\n",
    "for item in df1['models']:\n",
    "    models3.append(str(item).split(' (')[1].split(')')[0])\n",
    "df1['Scalers'] = models3\n",
    "\n",
    "df1.to_csv('heatmap_m1_app.csv')"
   ]
  },
  {
   "cell_type": "markdown",
   "metadata": {},
   "source": [
    "Model 1 Lights"
   ]
  },
  {
   "cell_type": "code",
   "execution_count": 31,
   "metadata": {},
   "outputs": [],
   "source": [
    "df10 = pd.read_csv('model_1_lights.csv')\n",
    "df10[['Models']] = df.models.apply(lambda x: pd.Series(str(x).split(\"_\")))\n",
    "df10['Models'] = df10['models'].str.replace(r\"\\s*\\([^()]*\\)\",\"\").str.strip()\n",
    "models3 = []\n",
    "for item in df10['models']:\n",
    "    models3.append(str(item).split(' (')[1].split(')')[0])\n",
    "df10['Scalers'] = models3\n",
    "df10.to_csv('heatmap_m1_lights.csv')"
   ]
  },
  {
   "cell_type": "markdown",
   "metadata": {},
   "source": [
    "Negative Correlation Application\n"
   ]
  },
  {
   "cell_type": "code",
   "execution_count": 33,
   "metadata": {},
   "outputs": [],
   "source": [
    "df11 = pd.read_csv('neg_corr_app.csv')\n",
    "df11[['Models']] = df.models.apply(lambda x: pd.Series(str(x).split(\"_\")))\n",
    "df11['Models'] = df11['models'].str.replace(r\"\\s*\\([^()]*\\)\",\"\").str.strip()\n",
    "models4 = []\n",
    "for item in df11['models']:\n",
    "    models4.append(str(item).split(' (')[1].split(')')[0])\n",
    "df11['Scalers'] = models4\n",
    "\n",
    "df11.to_csv('heatmap_neg_app.csv')"
   ]
  },
  {
   "cell_type": "markdown",
   "metadata": {},
   "source": [
    "Negative Correlation Lights"
   ]
  },
  {
   "cell_type": "code",
   "execution_count": 37,
   "metadata": {},
   "outputs": [],
   "source": [
    "df12 = pd.read_csv('neg_corr_lights.csv')\n",
    "df12[['Models']] = df.models.apply(lambda x: pd.Series(str(x).split(\"_\")))\n",
    "df12['Models'] = df12['models'].str.replace(r\"\\s*\\([^()]*\\)\",\"\").str.strip()\n",
    "models5 = []\n",
    "for item in df12['models']:\n",
    "    models5.append(str(item).split(' (')[1].split(')')[0])\n",
    "df12['Scalers'] = models5\n",
    "df12 \n",
    "df12.to_csv('heatmap_neg_lights.csv')"
   ]
  },
  {
   "cell_type": "markdown",
   "metadata": {},
   "source": [
    "Positive Correlation Appliances"
   ]
  },
  {
   "cell_type": "code",
   "execution_count": 39,
   "metadata": {},
   "outputs": [],
   "source": [
    "df13 = pd.read_csv('pos_corr_app.csv')\n",
    "df13[['Models']] = df.models.apply(lambda x: pd.Series(str(x).split(\"_\")))\n",
    "df13['Models'] = df13['models'].str.replace(r\"\\s*\\([^()]*\\)\",\"\").str.strip()\n",
    "models6 = []\n",
    "for item in df13['models']:\n",
    "    models6.append(str(item).split(' (')[1].split(')')[0])\n",
    "df13['Scalers'] = models6\n",
    "df13\n",
    "df13.to_csv('heatmap_pos_app.csv')"
   ]
  },
  {
   "cell_type": "markdown",
   "metadata": {},
   "source": [
    "Positive Correlation Lights"
   ]
  },
  {
   "cell_type": "code",
   "execution_count": 40,
   "metadata": {},
   "outputs": [],
   "source": [
    "df14 = pd.read_csv('pos_corr_lights.csv')\n",
    "df14[['Models']] = df.models.apply(lambda x: pd.Series(str(x).split(\"_\")))\n",
    "df14['Models'] = df14['models'].str.replace(r\"\\s*\\([^()]*\\)\",\"\").str.strip()\n",
    "models7 = []\n",
    "for item in df14['models']:\n",
    "    models7.append(str(item).split(' (')[1].split(')')[0])\n",
    "df14['Scalers'] = models7\n",
    "df14\n",
    "df14.to_csv('heatmap_pos_lights.csv')"
   ]
  },
  {
   "cell_type": "markdown",
   "metadata": {},
   "source": [
    "Top 5 Recursive Elminiation Appliances"
   ]
  },
  {
   "cell_type": "code",
   "execution_count": 43,
   "metadata": {},
   "outputs": [],
   "source": [
    "df15 = pd.read_csv('top5_rfe_app.csv')\n",
    "df15[['Models']] = df.models.apply(lambda x: pd.Series(str(x).split(\"_\")))\n",
    "df15['Models'] = df15['models'].str.replace(r\"\\s*\\([^()]*\\)\",\"\").str.strip()\n",
    "models8 = []\n",
    "for item in df15['models']:\n",
    "    models8.append(str(item).split(' (')[1].split(')')[0])\n",
    "df15['Scalers'] = models8\n",
    "df15\n",
    "df15.to_csv('heatmap_rfe_app.csv')"
   ]
  },
  {
   "cell_type": "markdown",
   "metadata": {},
   "source": [
    "Top 5 Recursive Elimination Lights"
   ]
  },
  {
   "cell_type": "code",
   "execution_count": 44,
   "metadata": {},
   "outputs": [],
   "source": [
    "df16 = pd.read_csv('top5_rfe_lights.csv')\n",
    "df16[['Models']] = df.models.apply(lambda x: pd.Series(str(x).split(\"_\")))\n",
    "df16['Models'] = df16['models'].str.replace(r\"\\s*\\([^()]*\\)\",\"\").str.strip()\n",
    "models9 = []\n",
    "for item in df16['models']:\n",
    "    models9.append(str(item).split(' (')[1].split(')')[0])\n",
    "df16['Scalers'] = models9\n",
    "df16\n",
    "df16.to_csv('heatmap_rfe_lights.csv')"
   ]
  },
  {
   "cell_type": "markdown",
   "metadata": {},
   "source": [
    "# END\n",
    "If all Data needs to be combined run the blob code below"
   ]
  },
  {
   "cell_type": "code",
   "execution_count": 1,
   "metadata": {},
   "outputs": [
    {
     "name": "stderr",
     "output_type": "stream",
     "text": [
      "C:\\anaconda\\envs\\PythonData\\lib\\site-packages\\ipykernel_launcher.py:13: FutureWarning: Sorting because non-concatenation axis is not aligned. A future version\n",
      "of pandas will change to not sort by default.\n",
      "\n",
      "To accept the future behavior, pass 'sort=False'.\n",
      "\n",
      "To retain the current behavior and silence the warning, pass 'sort=True'.\n",
      "\n",
      "  del sys.path[0]\n"
     ]
    }
   ],
   "source": [
    "import pandas as pd\n",
    "import glob\n",
    "\n",
    "path = r'C:\\Users\\Steven Quitugua\\Desktop\\Final Project Copies' \n",
    "all_files = glob.glob(path + \"/*.csv\")\n",
    "\n",
    "li = []\n",
    "\n",
    "for filename in all_files:\n",
    "    df5 = pd.read_csv(filename, index_col=None, header=0)\n",
    "    li.append(df5)\n",
    "\n",
    "frame = pd.concat(li, axis=0, ignore_index=True)"
   ]
  },
  {
   "cell_type": "code",
   "execution_count": 2,
   "metadata": {
    "scrolled": true
   },
   "outputs": [
    {
     "data": {
      "text/html": [
       "<div>\n",
       "<style scoped>\n",
       "    .dataframe tbody tr th:only-of-type {\n",
       "        vertical-align: middle;\n",
       "    }\n",
       "\n",
       "    .dataframe tbody tr th {\n",
       "        vertical-align: top;\n",
       "    }\n",
       "\n",
       "    .dataframe thead th {\n",
       "        text-align: right;\n",
       "    }\n",
       "</style>\n",
       "<table border=\"1\" class=\"dataframe\">\n",
       "  <thead>\n",
       "    <tr style=\"text-align: right;\">\n",
       "      <th></th>\n",
       "      <th>MSE values</th>\n",
       "      <th>Scaler</th>\n",
       "      <th>Unnamed: 0</th>\n",
       "      <th>models</th>\n",
       "      <th>r2 values</th>\n",
       "    </tr>\n",
       "  </thead>\n",
       "  <tbody>\n",
       "    <tr>\n",
       "      <th>0</th>\n",
       "      <td>0.721518</td>\n",
       "      <td>Power</td>\n",
       "      <td>0</td>\n",
       "      <td>Linear Regression (Power)</td>\n",
       "      <td>0.268947</td>\n",
       "    </tr>\n",
       "    <tr>\n",
       "      <th>1</th>\n",
       "      <td>0.743226</td>\n",
       "      <td>Power</td>\n",
       "      <td>1</td>\n",
       "      <td>Lasso (Power)</td>\n",
       "      <td>0.246953</td>\n",
       "    </tr>\n",
       "    <tr>\n",
       "      <th>2</th>\n",
       "      <td>0.721518</td>\n",
       "      <td>Power</td>\n",
       "      <td>2</td>\n",
       "      <td>Ridge (Power)</td>\n",
       "      <td>0.268947</td>\n",
       "    </tr>\n",
       "    <tr>\n",
       "      <th>3</th>\n",
       "      <td>0.733286</td>\n",
       "      <td>Power</td>\n",
       "      <td>3</td>\n",
       "      <td>Elastic Net (Power)</td>\n",
       "      <td>0.257024</td>\n",
       "    </tr>\n",
       "    <tr>\n",
       "      <th>4</th>\n",
       "      <td>0.484406</td>\n",
       "      <td>Power</td>\n",
       "      <td>4</td>\n",
       "      <td>SVR (Power)</td>\n",
       "      <td>0.509193</td>\n",
       "    </tr>\n",
       "    <tr>\n",
       "      <th>...</th>\n",
       "      <td>...</td>\n",
       "      <td>...</td>\n",
       "      <td>...</td>\n",
       "      <td>...</td>\n",
       "      <td>...</td>\n",
       "    </tr>\n",
       "    <tr>\n",
       "      <th>95</th>\n",
       "      <td>1.801288</td>\n",
       "      <td>Robust</td>\n",
       "      <td>95</td>\n",
       "      <td>RFR (Robust)</td>\n",
       "      <td>0.598580</td>\n",
       "    </tr>\n",
       "    <tr>\n",
       "      <th>96</th>\n",
       "      <td>0.721518</td>\n",
       "      <td>Power</td>\n",
       "      <td>96</td>\n",
       "      <td>Linear Regression (Power)</td>\n",
       "      <td>0.268947</td>\n",
       "    </tr>\n",
       "    <tr>\n",
       "      <th>97</th>\n",
       "      <td>0.743226</td>\n",
       "      <td>Power</td>\n",
       "      <td>97</td>\n",
       "      <td>Lasso (Power)</td>\n",
       "      <td>0.246953</td>\n",
       "    </tr>\n",
       "    <tr>\n",
       "      <th>98</th>\n",
       "      <td>0.721518</td>\n",
       "      <td>Power</td>\n",
       "      <td>98</td>\n",
       "      <td>Ridge (Power)</td>\n",
       "      <td>0.268947</td>\n",
       "    </tr>\n",
       "    <tr>\n",
       "      <th>99</th>\n",
       "      <td>0.733286</td>\n",
       "      <td>Power</td>\n",
       "      <td>99</td>\n",
       "      <td>Elastic Net (Power)</td>\n",
       "      <td>0.257024</td>\n",
       "    </tr>\n",
       "  </tbody>\n",
       "</table>\n",
       "<p>100 rows × 5 columns</p>\n",
       "</div>"
      ],
      "text/plain": [
       "    MSE values  Scaler  Unnamed: 0                     models  r2 values\n",
       "0     0.721518   Power           0  Linear Regression (Power)   0.268947\n",
       "1     0.743226   Power           1              Lasso (Power)   0.246953\n",
       "2     0.721518   Power           2              Ridge (Power)   0.268947\n",
       "3     0.733286   Power           3        Elastic Net (Power)   0.257024\n",
       "4     0.484406   Power           4                SVR (Power)   0.509193\n",
       "..         ...     ...         ...                        ...        ...\n",
       "95    1.801288  Robust          95               RFR (Robust)   0.598580\n",
       "96    0.721518   Power          96  Linear Regression (Power)   0.268947\n",
       "97    0.743226   Power          97              Lasso (Power)   0.246953\n",
       "98    0.721518   Power          98              Ridge (Power)   0.268947\n",
       "99    0.733286   Power          99        Elastic Net (Power)   0.257024\n",
       "\n",
       "[100 rows x 5 columns]"
      ]
     },
     "execution_count": 2,
     "metadata": {},
     "output_type": "execute_result"
    }
   ],
   "source": [
    "frame.head(100)\n"
   ]
  },
  {
   "cell_type": "code",
   "execution_count": 48,
   "metadata": {},
   "outputs": [
    {
     "data": {
      "text/html": [
       "<div>\n",
       "<style scoped>\n",
       "    .dataframe tbody tr th:only-of-type {\n",
       "        vertical-align: middle;\n",
       "    }\n",
       "\n",
       "    .dataframe tbody tr th {\n",
       "        vertical-align: top;\n",
       "    }\n",
       "\n",
       "    .dataframe thead th {\n",
       "        text-align: right;\n",
       "    }\n",
       "</style>\n",
       "<table border=\"1\" class=\"dataframe\">\n",
       "  <thead>\n",
       "    <tr style=\"text-align: right;\">\n",
       "      <th></th>\n",
       "      <th>models</th>\n",
       "      <th>r2 values</th>\n",
       "      <th>MSE values</th>\n",
       "      <th>Scaler</th>\n",
       "      <th>Models</th>\n",
       "      <th>Scalers</th>\n",
       "    </tr>\n",
       "  </thead>\n",
       "  <tbody>\n",
       "    <tr>\n",
       "      <th>0</th>\n",
       "      <td>Linear Regression (Power)</td>\n",
       "      <td>0.268947</td>\n",
       "      <td>0.721518</td>\n",
       "      <td>Power</td>\n",
       "      <td>Linear Regression</td>\n",
       "      <td>Power</td>\n",
       "    </tr>\n",
       "    <tr>\n",
       "      <th>1</th>\n",
       "      <td>Lasso (Power)</td>\n",
       "      <td>0.246953</td>\n",
       "      <td>0.743226</td>\n",
       "      <td>Power</td>\n",
       "      <td>Lasso</td>\n",
       "      <td>Power</td>\n",
       "    </tr>\n",
       "    <tr>\n",
       "      <th>2</th>\n",
       "      <td>Ridge (Power)</td>\n",
       "      <td>0.268947</td>\n",
       "      <td>0.721518</td>\n",
       "      <td>Power</td>\n",
       "      <td>Ridge</td>\n",
       "      <td>Power</td>\n",
       "    </tr>\n",
       "    <tr>\n",
       "      <th>3</th>\n",
       "      <td>Elastic Net (Power)</td>\n",
       "      <td>0.257024</td>\n",
       "      <td>0.733286</td>\n",
       "      <td>Power</td>\n",
       "      <td>Elastic Net</td>\n",
       "      <td>Power</td>\n",
       "    </tr>\n",
       "    <tr>\n",
       "      <th>4</th>\n",
       "      <td>SVR (Power)</td>\n",
       "      <td>0.509193</td>\n",
       "      <td>0.484406</td>\n",
       "      <td>Power</td>\n",
       "      <td>SVR</td>\n",
       "      <td>Power</td>\n",
       "    </tr>\n",
       "    <tr>\n",
       "      <th>...</th>\n",
       "      <td>...</td>\n",
       "      <td>...</td>\n",
       "      <td>...</td>\n",
       "      <td>...</td>\n",
       "      <td>...</td>\n",
       "      <td>...</td>\n",
       "    </tr>\n",
       "    <tr>\n",
       "      <th>187</th>\n",
       "      <td>Lasso (Robust)</td>\n",
       "      <td>0.132227</td>\n",
       "      <td>3.893947</td>\n",
       "      <td>Robust</td>\n",
       "      <td>Lasso</td>\n",
       "      <td>Robust</td>\n",
       "    </tr>\n",
       "    <tr>\n",
       "      <th>188</th>\n",
       "      <td>Ridge (Robust)</td>\n",
       "      <td>0.144800</td>\n",
       "      <td>3.837529</td>\n",
       "      <td>Robust</td>\n",
       "      <td>Ridge</td>\n",
       "      <td>Robust</td>\n",
       "    </tr>\n",
       "    <tr>\n",
       "      <th>189</th>\n",
       "      <td>Elastic Net (Robust)</td>\n",
       "      <td>0.136727</td>\n",
       "      <td>3.873755</td>\n",
       "      <td>Robust</td>\n",
       "      <td>Elastic Net</td>\n",
       "      <td>Robust</td>\n",
       "    </tr>\n",
       "    <tr>\n",
       "      <th>190</th>\n",
       "      <td>SVR (Robust)</td>\n",
       "      <td>0.179366</td>\n",
       "      <td>3.682421</td>\n",
       "      <td>Robust</td>\n",
       "      <td>SVR</td>\n",
       "      <td>Robust</td>\n",
       "    </tr>\n",
       "    <tr>\n",
       "      <th>191</th>\n",
       "      <td>RFR (Robust)</td>\n",
       "      <td>0.598580</td>\n",
       "      <td>1.801288</td>\n",
       "      <td>Robust</td>\n",
       "      <td>RFR</td>\n",
       "      <td>Robust</td>\n",
       "    </tr>\n",
       "  </tbody>\n",
       "</table>\n",
       "<p>192 rows × 6 columns</p>\n",
       "</div>"
      ],
      "text/plain": [
       "                        models  r2 values  MSE values  Scaler  \\\n",
       "0    Linear Regression (Power)   0.268947    0.721518   Power   \n",
       "1                Lasso (Power)   0.246953    0.743226   Power   \n",
       "2                Ridge (Power)   0.268947    0.721518   Power   \n",
       "3          Elastic Net (Power)   0.257024    0.733286   Power   \n",
       "4                  SVR (Power)   0.509193    0.484406   Power   \n",
       "..                         ...        ...         ...     ...   \n",
       "187             Lasso (Robust)   0.132227    3.893947  Robust   \n",
       "188             Ridge (Robust)   0.144800    3.837529  Robust   \n",
       "189       Elastic Net (Robust)   0.136727    3.873755  Robust   \n",
       "190               SVR (Robust)   0.179366    3.682421  Robust   \n",
       "191               RFR (Robust)   0.598580    1.801288  Robust   \n",
       "\n",
       "                Models Scalers  \n",
       "0    Linear Regression   Power  \n",
       "1                Lasso   Power  \n",
       "2                Ridge   Power  \n",
       "3          Elastic Net   Power  \n",
       "4                  SVR   Power  \n",
       "..                 ...     ...  \n",
       "187              Lasso  Robust  \n",
       "188              Ridge  Robust  \n",
       "189        Elastic Net  Robust  \n",
       "190                SVR  Robust  \n",
       "191                RFR  Robust  \n",
       "\n",
       "[192 rows x 6 columns]"
      ]
     },
     "execution_count": 48,
     "metadata": {},
     "output_type": "execute_result"
    }
   ],
   "source": [
    "df5 = pd.read_csv(r'C:\\Users\\Steven Quitugua\\Desktop\\Final Project Copies\\all_r2_mse.csv')\n",
    "df5[['Models']] = df5.models.apply(lambda x: pd.Series(str(x).split(\"_\")))\n",
    "df5['Models'] = df5['models'].str.replace(r\"\\s*\\([^()]*\\)\",\"\").str.strip()\n",
    "models10 = []\n",
    "for item in df5['models']:\n",
    "    models10.append(str(item).split(' (')[1].split(')')[0])\n",
    "df5['Scalers'] = models10\n",
    "df5 = df5.loc[:, ~df5.columns.str.contains('^Unnamed')]\n",
    "df5"
   ]
  },
  {
   "cell_type": "code",
   "execution_count": 49,
   "metadata": {},
   "outputs": [],
   "source": [
    "df5.to_csv('all_r2_mse.csv')"
   ]
  },
  {
   "cell_type": "code",
   "execution_count": 54,
   "metadata": {},
   "outputs": [
    {
     "data": {
      "image/png": "[encoded data removed]",
      "text/plain": [
       "<Figure size 360x360 with 2 Axes>"
      ]
     },
     "metadata": {
      "needs_background": "light"
     },
     "output_type": "display_data"
    }
   ],
   "source": [
    "heatmap1_data = pd.pivot_table(df5, values='r2 values', \n",
    "                     index=['Models'], \n",
    "                     columns='Scalers')\n",
    "fig, aa = plt.subplots(figsize=(5,5))        \n",
    "sns.heatmap(heatmap1_data.iloc[:, 0:190], annot=True, linewidths=.5, aa=aa)\n",
    "ax = plt.gca()\n",
    "ax.invert_yaxis()\n",
    "plt.show()"
   ]
  },
  {
   "cell_type": "code",
   "execution_count": null,
   "metadata": {},
   "outputs": [],
   "source": []
  }
 ],
 "metadata": {
  "kernelspec": {
   "display_name": "PythonData",
   "language": "python",
   "name": "pythondata"
  },
  "language_info": {
   "codemirror_mode": {
    "name": "ipython",
    "version": 3
   },
   "file_extension": ".py",
   "mimetype": "text/x-python",
   "name": "python",
   "nbconvert_exporter": "python",
   "pygments_lexer": "ipython3",
   "version": "3.6.5"
  }
 },
 "nbformat": 4,
 "nbformat_minor": 2
}
